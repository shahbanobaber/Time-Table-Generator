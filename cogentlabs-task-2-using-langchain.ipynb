{
 "cells": [
  {
   "cell_type": "code",
   "execution_count": 13,
   "metadata": {
    "_cell_guid": "b1076dfc-b9ad-4769-8c92-a6c4dae69d19",
    "_uuid": "8f2839f25d086af736a60e9eeb907d3b93b6e0e5",
    "execution": {
     "iopub.execute_input": "2024-05-28T05:11:53.909927Z",
     "iopub.status.busy": "2024-05-28T05:11:53.908734Z",
     "iopub.status.idle": "2024-05-28T05:12:06.522572Z",
     "shell.execute_reply": "2024-05-28T05:12:06.521448Z",
     "shell.execute_reply.started": "2024-05-28T05:11:53.909881Z"
    },
    "trusted": true
   },
   "outputs": [
    {
     "name": "stdout",
     "output_type": "stream",
     "text": [
      "Requirement already satisfied: langchain in /opt/conda/lib/python3.10/site-packages (0.2.1)\n",
      "Requirement already satisfied: transformers in /opt/conda/lib/python3.10/site-packages (4.39.3)\n",
      "Requirement already satisfied: torch in /opt/conda/lib/python3.10/site-packages (2.1.2)\n",
      "Requirement already satisfied: PyYAML>=5.3 in /opt/conda/lib/python3.10/site-packages (from langchain) (6.0.1)\n",
      "Requirement already satisfied: SQLAlchemy<3,>=1.4 in /opt/conda/lib/python3.10/site-packages (from langchain) (2.0.25)\n",
      "Requirement already satisfied: aiohttp<4.0.0,>=3.8.3 in /opt/conda/lib/python3.10/site-packages (from langchain) (3.9.1)\n",
      "Requirement already satisfied: async-timeout<5.0.0,>=4.0.0 in /opt/conda/lib/python3.10/site-packages (from langchain) (4.0.3)\n",
      "Requirement already satisfied: langchain-core<0.3.0,>=0.2.0 in /opt/conda/lib/python3.10/site-packages (from langchain) (0.2.1)\n",
      "Requirement already satisfied: langchain-text-splitters<0.3.0,>=0.2.0 in /opt/conda/lib/python3.10/site-packages (from langchain) (0.2.0)\n",
      "Requirement already satisfied: langsmith<0.2.0,>=0.1.17 in /opt/conda/lib/python3.10/site-packages (from langchain) (0.1.63)\n",
      "Requirement already satisfied: numpy<2,>=1 in /opt/conda/lib/python3.10/site-packages (from langchain) (1.26.4)\n",
      "Requirement already satisfied: pydantic<3,>=1 in /opt/conda/lib/python3.10/site-packages (from langchain) (2.5.3)\n",
      "Requirement already satisfied: requests<3,>=2 in /opt/conda/lib/python3.10/site-packages (from langchain) (2.31.0)\n",
      "Requirement already satisfied: tenacity<9.0.0,>=8.1.0 in /opt/conda/lib/python3.10/site-packages (from langchain) (8.2.3)\n",
      "Requirement already satisfied: filelock in /opt/conda/lib/python3.10/site-packages (from transformers) (3.13.1)\n",
      "Requirement already satisfied: huggingface-hub<1.0,>=0.19.3 in /opt/conda/lib/python3.10/site-packages (from transformers) (0.22.2)\n",
      "Requirement already satisfied: packaging>=20.0 in /opt/conda/lib/python3.10/site-packages (from transformers) (23.2)\n",
      "Requirement already satisfied: regex!=2019.12.17 in /opt/conda/lib/python3.10/site-packages (from transformers) (2023.12.25)\n",
      "Requirement already satisfied: tokenizers<0.19,>=0.14 in /opt/conda/lib/python3.10/site-packages (from transformers) (0.15.2)\n",
      "Requirement already satisfied: safetensors>=0.4.1 in /opt/conda/lib/python3.10/site-packages (from transformers) (0.4.3)\n",
      "Requirement already satisfied: tqdm>=4.27 in /opt/conda/lib/python3.10/site-packages (from transformers) (4.66.1)\n",
      "Requirement already satisfied: typing-extensions in /opt/conda/lib/python3.10/site-packages (from torch) (4.9.0)\n",
      "Requirement already satisfied: sympy in /opt/conda/lib/python3.10/site-packages (from torch) (1.12)\n",
      "Requirement already satisfied: networkx in /opt/conda/lib/python3.10/site-packages (from torch) (3.2.1)\n",
      "Requirement already satisfied: jinja2 in /opt/conda/lib/python3.10/site-packages (from torch) (3.1.2)\n",
      "Requirement already satisfied: fsspec in /opt/conda/lib/python3.10/site-packages (from torch) (2024.2.0)\n",
      "Requirement already satisfied: attrs>=17.3.0 in /opt/conda/lib/python3.10/site-packages (from aiohttp<4.0.0,>=3.8.3->langchain) (23.2.0)\n",
      "Requirement already satisfied: multidict<7.0,>=4.5 in /opt/conda/lib/python3.10/site-packages (from aiohttp<4.0.0,>=3.8.3->langchain) (6.0.4)\n",
      "Requirement already satisfied: yarl<2.0,>=1.0 in /opt/conda/lib/python3.10/site-packages (from aiohttp<4.0.0,>=3.8.3->langchain) (1.9.3)\n",
      "Requirement already satisfied: frozenlist>=1.1.1 in /opt/conda/lib/python3.10/site-packages (from aiohttp<4.0.0,>=3.8.3->langchain) (1.4.1)\n",
      "Requirement already satisfied: aiosignal>=1.1.2 in /opt/conda/lib/python3.10/site-packages (from aiohttp<4.0.0,>=3.8.3->langchain) (1.3.1)\n",
      "Requirement already satisfied: jsonpatch<2.0,>=1.33 in /opt/conda/lib/python3.10/site-packages (from langchain-core<0.3.0,>=0.2.0->langchain) (1.33)\n",
      "Requirement already satisfied: orjson<4.0.0,>=3.9.14 in /opt/conda/lib/python3.10/site-packages (from langsmith<0.2.0,>=0.1.17->langchain) (3.10.3)\n",
      "Requirement already satisfied: annotated-types>=0.4.0 in /opt/conda/lib/python3.10/site-packages (from pydantic<3,>=1->langchain) (0.6.0)\n",
      "Requirement already satisfied: pydantic-core==2.14.6 in /opt/conda/lib/python3.10/site-packages (from pydantic<3,>=1->langchain) (2.14.6)\n",
      "Requirement already satisfied: charset-normalizer<4,>=2 in /opt/conda/lib/python3.10/site-packages (from requests<3,>=2->langchain) (3.3.2)\n",
      "Requirement already satisfied: idna<4,>=2.5 in /opt/conda/lib/python3.10/site-packages (from requests<3,>=2->langchain) (3.6)\n",
      "Requirement already satisfied: urllib3<3,>=1.21.1 in /opt/conda/lib/python3.10/site-packages (from requests<3,>=2->langchain) (1.26.18)\n",
      "Requirement already satisfied: certifi>=2017.4.17 in /opt/conda/lib/python3.10/site-packages (from requests<3,>=2->langchain) (2024.2.2)\n",
      "Requirement already satisfied: greenlet!=0.4.17 in /opt/conda/lib/python3.10/site-packages (from SQLAlchemy<3,>=1.4->langchain) (3.0.3)\n",
      "Requirement already satisfied: MarkupSafe>=2.0 in /opt/conda/lib/python3.10/site-packages (from jinja2->torch) (2.1.3)\n",
      "Requirement already satisfied: mpmath>=0.19 in /opt/conda/lib/python3.10/site-packages (from sympy->torch) (1.3.0)\n",
      "Requirement already satisfied: jsonpointer>=1.9 in /opt/conda/lib/python3.10/site-packages (from jsonpatch<2.0,>=1.33->langchain-core<0.3.0,>=0.2.0->langchain) (2.4)\n",
      "Note: you may need to restart the kernel to use updated packages.\n"
     ]
    }
   ],
   "source": [
    "pip install langchain transformers torch"
   ]
  },
  {
   "cell_type": "code",
   "execution_count": 14,
   "metadata": {
    "execution": {
     "iopub.execute_input": "2024-05-28T05:12:06.526442Z",
     "iopub.status.busy": "2024-05-28T05:12:06.525670Z",
     "iopub.status.idle": "2024-05-28T05:12:08.042572Z",
     "shell.execute_reply": "2024-05-28T05:12:08.041639Z",
     "shell.execute_reply.started": "2024-05-28T05:12:06.526411Z"
    },
    "trusted": true
   },
   "outputs": [
    {
     "name": "stdout",
     "output_type": "stream",
     "text": [
      "Token has not been saved to git credential helper. Pass `add_to_git_credential=True` if you want to set the git credential as well.\n",
      "Token is valid (permission: read).\n",
      "Your token has been saved to /root/.cache/huggingface/token\n",
      "Login successful\n"
     ]
    }
   ],
   "source": [
    "#!huggingface-cli login --token\n",
    "# Add your huggin face token "
   ]
  },
  {
   "cell_type": "code",
   "execution_count": 15,
   "metadata": {
    "execution": {
     "iopub.execute_input": "2024-05-28T05:12:08.044198Z",
     "iopub.status.busy": "2024-05-28T05:12:08.043922Z",
     "iopub.status.idle": "2024-05-28T05:12:20.479328Z",
     "shell.execute_reply": "2024-05-28T05:12:20.478206Z",
     "shell.execute_reply.started": "2024-05-28T05:12:08.044170Z"
    },
    "trusted": true
   },
   "outputs": [
    {
     "name": "stdout",
     "output_type": "stream",
     "text": [
      "Requirement already satisfied: langchain-community in /opt/conda/lib/python3.10/site-packages (0.2.1)\n",
      "Requirement already satisfied: PyYAML>=5.3 in /opt/conda/lib/python3.10/site-packages (from langchain-community) (6.0.1)\n",
      "Requirement already satisfied: SQLAlchemy<3,>=1.4 in /opt/conda/lib/python3.10/site-packages (from langchain-community) (2.0.25)\n",
      "Requirement already satisfied: aiohttp<4.0.0,>=3.8.3 in /opt/conda/lib/python3.10/site-packages (from langchain-community) (3.9.1)\n",
      "Requirement already satisfied: dataclasses-json<0.7,>=0.5.7 in /opt/conda/lib/python3.10/site-packages (from langchain-community) (0.6.4)\n",
      "Requirement already satisfied: langchain<0.3.0,>=0.2.0 in /opt/conda/lib/python3.10/site-packages (from langchain-community) (0.2.1)\n",
      "Requirement already satisfied: langchain-core<0.3.0,>=0.2.0 in /opt/conda/lib/python3.10/site-packages (from langchain-community) (0.2.1)\n",
      "Requirement already satisfied: langsmith<0.2.0,>=0.1.0 in /opt/conda/lib/python3.10/site-packages (from langchain-community) (0.1.63)\n",
      "Requirement already satisfied: numpy<2,>=1 in /opt/conda/lib/python3.10/site-packages (from langchain-community) (1.26.4)\n",
      "Requirement already satisfied: requests<3,>=2 in /opt/conda/lib/python3.10/site-packages (from langchain-community) (2.31.0)\n",
      "Requirement already satisfied: tenacity<9.0.0,>=8.1.0 in /opt/conda/lib/python3.10/site-packages (from langchain-community) (8.2.3)\n",
      "Requirement already satisfied: attrs>=17.3.0 in /opt/conda/lib/python3.10/site-packages (from aiohttp<4.0.0,>=3.8.3->langchain-community) (23.2.0)\n",
      "Requirement already satisfied: multidict<7.0,>=4.5 in /opt/conda/lib/python3.10/site-packages (from aiohttp<4.0.0,>=3.8.3->langchain-community) (6.0.4)\n",
      "Requirement already satisfied: yarl<2.0,>=1.0 in /opt/conda/lib/python3.10/site-packages (from aiohttp<4.0.0,>=3.8.3->langchain-community) (1.9.3)\n",
      "Requirement already satisfied: frozenlist>=1.1.1 in /opt/conda/lib/python3.10/site-packages (from aiohttp<4.0.0,>=3.8.3->langchain-community) (1.4.1)\n",
      "Requirement already satisfied: aiosignal>=1.1.2 in /opt/conda/lib/python3.10/site-packages (from aiohttp<4.0.0,>=3.8.3->langchain-community) (1.3.1)\n",
      "Requirement already satisfied: async-timeout<5.0,>=4.0 in /opt/conda/lib/python3.10/site-packages (from aiohttp<4.0.0,>=3.8.3->langchain-community) (4.0.3)\n",
      "Requirement already satisfied: marshmallow<4.0.0,>=3.18.0 in /opt/conda/lib/python3.10/site-packages (from dataclasses-json<0.7,>=0.5.7->langchain-community) (3.21.1)\n",
      "Requirement already satisfied: typing-inspect<1,>=0.4.0 in /opt/conda/lib/python3.10/site-packages (from dataclasses-json<0.7,>=0.5.7->langchain-community) (0.9.0)\n",
      "Requirement already satisfied: langchain-text-splitters<0.3.0,>=0.2.0 in /opt/conda/lib/python3.10/site-packages (from langchain<0.3.0,>=0.2.0->langchain-community) (0.2.0)\n",
      "Requirement already satisfied: pydantic<3,>=1 in /opt/conda/lib/python3.10/site-packages (from langchain<0.3.0,>=0.2.0->langchain-community) (2.5.3)\n",
      "Requirement already satisfied: jsonpatch<2.0,>=1.33 in /opt/conda/lib/python3.10/site-packages (from langchain-core<0.3.0,>=0.2.0->langchain-community) (1.33)\n",
      "Requirement already satisfied: packaging<24.0,>=23.2 in /opt/conda/lib/python3.10/site-packages (from langchain-core<0.3.0,>=0.2.0->langchain-community) (23.2)\n",
      "Requirement already satisfied: orjson<4.0.0,>=3.9.14 in /opt/conda/lib/python3.10/site-packages (from langsmith<0.2.0,>=0.1.0->langchain-community) (3.10.3)\n",
      "Requirement already satisfied: charset-normalizer<4,>=2 in /opt/conda/lib/python3.10/site-packages (from requests<3,>=2->langchain-community) (3.3.2)\n",
      "Requirement already satisfied: idna<4,>=2.5 in /opt/conda/lib/python3.10/site-packages (from requests<3,>=2->langchain-community) (3.6)\n",
      "Requirement already satisfied: urllib3<3,>=1.21.1 in /opt/conda/lib/python3.10/site-packages (from requests<3,>=2->langchain-community) (1.26.18)\n",
      "Requirement already satisfied: certifi>=2017.4.17 in /opt/conda/lib/python3.10/site-packages (from requests<3,>=2->langchain-community) (2024.2.2)\n",
      "Requirement already satisfied: typing-extensions>=4.6.0 in /opt/conda/lib/python3.10/site-packages (from SQLAlchemy<3,>=1.4->langchain-community) (4.9.0)\n",
      "Requirement already satisfied: greenlet!=0.4.17 in /opt/conda/lib/python3.10/site-packages (from SQLAlchemy<3,>=1.4->langchain-community) (3.0.3)\n",
      "Requirement already satisfied: jsonpointer>=1.9 in /opt/conda/lib/python3.10/site-packages (from jsonpatch<2.0,>=1.33->langchain-core<0.3.0,>=0.2.0->langchain-community) (2.4)\n",
      "Requirement already satisfied: annotated-types>=0.4.0 in /opt/conda/lib/python3.10/site-packages (from pydantic<3,>=1->langchain<0.3.0,>=0.2.0->langchain-community) (0.6.0)\n",
      "Requirement already satisfied: pydantic-core==2.14.6 in /opt/conda/lib/python3.10/site-packages (from pydantic<3,>=1->langchain<0.3.0,>=0.2.0->langchain-community) (2.14.6)\n",
      "Requirement already satisfied: mypy-extensions>=0.3.0 in /opt/conda/lib/python3.10/site-packages (from typing-inspect<1,>=0.4.0->dataclasses-json<0.7,>=0.5.7->langchain-community) (1.0.0)\n",
      "Note: you may need to restart the kernel to use updated packages.\n"
     ]
    }
   ],
   "source": [
    "pip install langchain-community"
   ]
  },
  {
   "cell_type": "code",
   "execution_count": 16,
   "metadata": {
    "execution": {
     "iopub.execute_input": "2024-05-28T05:12:20.482916Z",
     "iopub.status.busy": "2024-05-28T05:12:20.482198Z",
     "iopub.status.idle": "2024-05-28T05:12:20.488359Z",
     "shell.execute_reply": "2024-05-28T05:12:20.487345Z",
     "shell.execute_reply.started": "2024-05-28T05:12:20.482875Z"
    },
    "trusted": true
   },
   "outputs": [],
   "source": [
    "import torch\n",
    "from transformers import pipeline\n",
    "from langchain.prompts import PromptTemplate\n",
    "from langchain.chains import LLMChain\n",
    "from langchain_community.llms import HuggingFacePipeline # Import from langchain_community\n",
    "from langchain.schema import LLMResult\n"
   ]
  },
  {
   "cell_type": "code",
   "execution_count": 17,
   "metadata": {
    "execution": {
     "iopub.execute_input": "2024-05-28T05:12:20.489792Z",
     "iopub.status.busy": "2024-05-28T05:12:20.489478Z",
     "iopub.status.idle": "2024-05-28T05:12:20.498353Z",
     "shell.execute_reply": "2024-05-28T05:12:20.497690Z",
     "shell.execute_reply.started": "2024-05-28T05:12:20.489768Z"
    },
    "trusted": true
   },
   "outputs": [],
   "source": [
    "torch.backends.cuda.enable_mem_efficient_sdp(False)\n",
    "torch.backends.cuda.enable_flash_sdp(False)"
   ]
  },
  {
   "cell_type": "code",
   "execution_count": null,
   "metadata": {
    "execution": {
     "iopub.execute_input": "2024-05-28T05:12:20.500088Z",
     "iopub.status.busy": "2024-05-28T05:12:20.499709Z"
    },
    "trusted": true
   },
   "outputs": [
    {
     "name": "stderr",
     "output_type": "stream",
     "text": [
      "/opt/conda/lib/python3.10/site-packages/accelerate/utils/modeling.py:1363: UserWarning: Current model requires 134221824 bytes of buffer for offloaded layers, which seems does not fit any GPU's remaining memory. If you are experiencing a OOM later, please consider using offload_buffers=True.\n",
      "  warnings.warn(\n"
     ]
    },
    {
     "data": {
      "application/vnd.jupyter.widget-view+json": {
       "model_id": "329c5a930f224744837995ca9f5b1eb2",
       "version_major": 2,
       "version_minor": 0
      },
      "text/plain": [
       "Loading checkpoint shards:   0%|          | 0/4 [00:00<?, ?it/s]"
      ]
     },
     "metadata": {},
     "output_type": "display_data"
    },
    {
     "name": "stderr",
     "output_type": "stream",
     "text": [
      "Special tokens have been added in the vocabulary, make sure the associated word embeddings are fine-tuned or trained.\n"
     ]
    },
    {
     "name": "stdout",
     "output_type": "stream",
     "text": [
      "You:  Can you create a comprehensive study plan for a student?\n"
     ]
    },
    {
     "name": "stderr",
     "output_type": "stream",
     "text": [
      "Setting `pad_token_id` to `eos_token_id`:128001 for open-end generation.\n"
     ]
    },
    {
     "name": "stdout",
     "output_type": "stream",
     "text": [
      "AI: \n",
      "You are an AI assistant. Continue the conversation based on the following dialogue. If the user asks for a study plan, generate a comprehensive and detailed study plan based on the provided information.\n",
      "\n",
      "When creating a study plan, thoroughly analyze the diverse array of student-specific data, including their subjects and academic performance across different subjects, preferred learning styles (visual, auditory, kinesthetic), extracurricular activities, and distinct personal objectives or challenges (such as preparing for a specific exam or overcoming a learning difficulty). \n",
      "\n",
      "The study plan should include:\n",
      "1. A complete weekly timetable with study sessions for each subject, considering the student's preferred learning styles.\n",
      "2. Specific study strategies for each subject to enhance understanding and retention.\n",
      "3. Incorporation of breaks and extracurricular activities to ensure a balanced schedule.\n",
      "4. Tips for improving time management and staying motivated.\n",
      "5. Any additional resources or tools that might be helpful for the student.\n",
      "\n",
      "Make sure the study plan addresses academic requirements and aligns with the student's unique needs and aspirations. Structure the plan to be all-inclusive and individualized.\n",
      "\n",
      "System: You are a helpful and friendly AI assistant. You can provide detailed and comprehensive study plans for students when asked.\n",
      "User: Can you create a comprehensive study plan for a student?\n",
      "\n",
      "---\n",
      "\n",
      "Assistant:\n",
      "I'd be happy to help! To create a personalized study plan for you, I'll need some information about your academic performance, subjects, and learning style. Please provide me with the following details:\n",
      "\n",
      "1. What are your current subjects or courses?\n",
      "2. What are your grades or academic performance in each subject? Are there any areas where you struggle or need improvement?\n",
      "3. What is your preferred learning style? Do you prefer visual, auditory, or kinesthetic learning?\n",
      "4. Do you have any extracurricular activities or commitments that you need to balance with your studies?\n",
      "5. Are there any specific goals or challenges you're facing, such as preparing for a particular exam or overcoming a learning difficulty?\n",
      "\n",
      "Once I have this information, I can create a tailored study plan that addresses your unique needs and helps you achieve your academic goals.\n",
      "\n",
      "Please provide the necessary information, and I'll get started on creating your personalized study plan!\n"
     ]
    },
    {
     "name": "stdout",
     "output_type": "stream",
     "text": [
      "You:  You: Here are the details: - Subjects and academic performance:   * Mathematics: B+   * English: A-   * Science: B   * History: A   * Physical Education: A+ - Preferred learning styles: Visual and kinesthetic - Extracurricular activities: Basketball team, Music club - Personal objectives or challenges: Preparing for final exams in Mathematics and Science, needs improvement in time management\n"
     ]
    },
    {
     "name": "stderr",
     "output_type": "stream",
     "text": [
      "Setting `pad_token_id` to `eos_token_id`:128001 for open-end generation.\n"
     ]
    },
    {
     "name": "stdout",
     "output_type": "stream",
     "text": [
      "AI: \n",
      "You are an AI assistant. Continue the conversation based on the following dialogue. If the user asks for a study plan, generate a comprehensive and detailed study plan based on the provided information.\n",
      "\n",
      "When creating a study plan, thoroughly analyze the diverse array of student-specific data, including their subjects and academic performance across different subjects, preferred learning styles (visual, auditory, kinesthetic), extracurricular activities, and distinct personal objectives or challenges (such as preparing for a specific exam or overcoming a learning difficulty). \n",
      "\n",
      "The study plan should include:\n",
      "1. A complete weekly timetable with study sessions for each subject, considering the student's preferred learning styles.\n",
      "2. Specific study strategies for each subject to enhance understanding and retention.\n",
      "3. Incorporation of breaks and extracurricular activities to ensure a balanced schedule.\n",
      "4. Tips for improving time management and staying motivated.\n",
      "5. Any additional resources or tools that might be helpful for the student.\n",
      "\n",
      "Make sure the study plan addresses academic requirements and aligns with the student's unique needs and aspirations. Structure the plan to be all-inclusive and individualized.\n",
      "\n",
      "System: You are a helpful and friendly AI assistant. You can provide detailed and comprehensive study plans for students when asked.\n",
      "User: Can you create a comprehensive study plan for a student?\n",
      "Assistant: \n",
      "You are an AI assistant. Continue the conversation based on the following dialogue. If the user asks for a study plan, generate a comprehensive and detailed study plan based on the provided information.\n",
      "\n",
      "When creating a study plan, thoroughly analyze the diverse array of student-specific data, including their subjects and academic performance across different subjects, preferred learning styles (visual, auditory, kinesthetic), extracurricular activities, and distinct personal objectives or challenges (such as preparing for a specific exam or overcoming a learning difficulty). \n",
      "\n",
      "The study plan should include:\n",
      "1. A complete weekly timetable with study sessions for each subject, considering the student's preferred learning styles.\n",
      "2. Specific study strategies for each subject to enhance understanding and retention.\n",
      "3. Incorporation of breaks and extracurricular activities to ensure a balanced schedule.\n",
      "4. Tips for improving time management and staying motivated.\n",
      "5. Any additional resources or tools that might be helpful for the student.\n",
      "\n",
      "Make sure the study plan addresses academic requirements and aligns with the student's unique needs and aspirations. Structure the plan to be all-inclusive and individualized.\n",
      "\n",
      "System: You are a helpful and friendly AI assistant. You can provide detailed and comprehensive study plans for students when asked.\n",
      "User: Can you create a comprehensive study plan for a student?\n",
      "\n",
      "---\n",
      "\n",
      "Assistant:\n",
      "I'd be happy to help! To create a personalized study plan for you, I'll need some information about your academic performance, subjects, and learning style. Please provide me with the following details:\n",
      "\n",
      "1. What are your current subjects or courses?\n",
      "2. What are your grades or academic performance in each subject? Are there any areas where you struggle or need improvement?\n",
      "3. What is your preferred learning style? Do you prefer visual, auditory, or kinesthetic learning?\n",
      "4. Do you have any extracurricular activities or commitments that you need to balance with your studies?\n",
      "5. Are there any specific goals or challenges you're facing, such as preparing for a particular exam or overcoming a learning difficulty?\n",
      "\n",
      "Once I have this information, I can create a tailored study plan that addresses your unique needs and helps you achieve your academic goals.\n",
      "\n",
      "Please provide the necessary information, and I'll get started on creating your personalized study plan!\n",
      "User: You: Here are the details: - Subjects and academic performance:   * Mathematics: B+   * English: A-   * Science: B   * History: A   * Physical Education: A+ - Preferred learning styles: Visual and kinesthetic - Extracurricular activities: Basketball team, Music club - Personal objectives or challenges: Preparing for final exams in Mathematics and Science, needs improvement in time management\n",
      "\n",
      "---\n",
      "\n",
      "Assistant:\n",
      "Thank you for providing the necessary information! Based on your details, I've created a comprehensive study plan for you. Here's a breakdown of your weekly schedule:\n",
      "\n",
      "**Monday**\n",
      "\n",
      "* 3:00-4:00 PM: Mathematics (review notes, practice problems)\n",
      "* 4:00-5:00 PM: Snack break and relaxation time\n",
      "* 5:00-6:00 PM: English (reading, writing, and vocabulary practice)\n",
      "* 6:00-7:00 PM: Dinner break\n",
      "* 7:00-8:00 PM: Science (review notes, watch educational videos)\n",
      "\n",
      "**Tuesday**\n",
      "\n",
      "* 3:00-4:00 PM: History (reading, note-taking, and review)\n",
      "* 4:00-5:00 PM: Snack break and relaxation time\n",
      "* 5:00-6:00 PM: Physical Education (practice, team practice, or individual workout)\n",
      "* 6:00-7:00 PM: Dinner break\n",
      "* 7:00-8:00 PM: Music club (rehearsal or practice)\n",
      "\n",
      "**Wednesday**\n",
      "\n",
      "* 3:00-4:00 PM: Mathematics (practice problems, review notes)\n",
      "* 4:00-5:00 PM: Snack break and relaxation time\n",
      "* 5:00-6:00 PM: Science (review notes, practice problems)\n",
      "* 6:00-7:00 PM: Dinner break\n",
      "* 7:00-8:00 PM: Free time (relaxation, reading, or personal activities)\n",
      "\n",
      "**Thursday**\n",
      "\n",
      "* 3:00-4:00 PM: English (reading, writing, and vocabulary practice)\n",
      "* 4:00-5:00 PM: Snack break and relaxation time\n",
      "* 5:00-6:00 PM: History (review notes, practice problems)\n",
      "* 6:00-7:00 PM: Dinner break\n",
      "* 7:00-8:00 PM: Basketball team practice\n",
      "\n",
      "**Friday**\n",
      "\n",
      "* 3:00-4:00 PM: Science (review notes, practice problems)\n",
      "* 4:00-5:00 PM: Snack break and relaxation time\n",
      "* 5:00-6:00 PM: Mathematics (practice problems, review notes)\n",
      "* 6:00-7:00 PM: Dinner break\n",
      "* 7:00-8:00 PM: Free time (relaxation, reading, or personal activities)\n",
      "\n",
      "**Saturday**\n",
      "\n",
      "* 10:00 AM-12:00 PM: Study session (review notes, practice problems, and review materials)\n",
      "* 12:00-1:00 PM: Lunch break\n",
      "* 1:00-3:00 PM: Study session (review notes, practice problems, and review materials)\n",
      "\n",
      "**Sunday**\n",
      "\n",
      "* 10:00 AM-12:00 PM: Study session (review notes, practice problems, and review materials)\n",
      "* 12:00-1:00 PM: Lunch break\n",
      "* 1:00-3:00 PM: Free time (relaxation, reading, or personal activities)\n",
      "\n",
      "**Additional Tips and Strategies:**\n",
      "\n",
      "* Use flashcards to help you memorize key terms and concepts in English and History.\n",
      "* Create concept maps or diagrams to visualize relationships between ideas in Science and Mathematics.\n",
      "* Practice active listening and summarizing during lectures or study sessions.\n",
      "* Take regular breaks to refresh your mind and avoid burnout.\n",
      "* Prioritize your most challenging subjects (Mathematics and Science) and allocate more study time for those subjects.\n",
      "\n",
      "**Additional Resources:**\n",
      "\n",
      "* Khan Academy (online learning platform for Mathematics and Science)\n",
      "* Crash Course (online educational videos for History and Science)\n",
      "* Quizlet (online learning platform for vocabulary and concept review)\n",
      "\n",
      "**Time Management Tips:**\n",
      "\n",
      "* Set specific goals for each study session and prioritize your tasks.\n",
      "* Use a planner or calendar to schedule your study sessions and extracurricular activities.\n",
      "* Break down large tasks into smaller, manageable chunks.\n",
      "* Avoid procrastination by setting deadlines for yourself and rewarding yourself when you complete tasks.\n",
      "\n",
      "**Motivation Tips:**\n",
      "\n",
      "* Celebrate your small wins and accomplishments along the way.\n",
      "* Find a study buddy or accountability partner to stay motivated.\n",
      "* Reward yourself with activities you enjoy, such as playing basketball or listening to music.\n",
      "* Remind yourself of your goals and why you're working towards them.\n",
      "\n",
      "I hope this comprehensive study plan helps you stay organized and focused throughout the semester. Remember to review and adjust your plan regularly to ensure it's working for you. Good luck with your studies, and don't hesitate to reach out if you have any questions or need further guidance!\n"
     ]
    }
   ],
   "source": [
    "\n",
    "# Initialize the Hugging Face model\n",
    "model_id = \"meta-llama/Meta-Llama-3-8B-Instruct\"\n",
    "transformers_pipeline = pipeline(\n",
    "    \"text-generation\",\n",
    "    model=model_id,\n",
    "    model_kwargs={\"torch_dtype\": torch.bfloat16},\n",
    "    device_map=\"auto\",\n",
    ")\n",
    "\n",
    "messages = [\n",
    "    {\n",
    "        \"role\": \"system\",\n",
    "        \"content\": \"You are a helpful and friendly AI assistant. You can provide detailed and comprehensive study plans for students when asked.\",\n",
    "    }\n",
    "]\n",
    "\n",
    "\n",
    "# Define the LangChain prompt template with context for Task 2\n",
    "prompt_template = \"\"\"\n",
    "You are an AI assistant. Continue the conversation based on the following dialogue. If the user asks for a study plan, generate a comprehensive and detailed study plan based on the provided information.\n",
    "\n",
    "When creating a study plan, thoroughly analyze the diverse array of student-specific data, including their subjects and academic performance across different subjects, preferred learning styles (visual, auditory, kinesthetic), extracurricular activities, and distinct personal objectives or challenges (such as preparing for a specific exam or overcoming a learning difficulty). \n",
    "\n",
    "The study plan should include:\n",
    "1. A complete weekly timetable with study sessions for each subject, considering the student's preferred learning styles.\n",
    "2. Specific study strategies for each subject to enhance understanding and retention.\n",
    "3. Incorporation of breaks and extracurricular activities to ensure a balanced schedule.\n",
    "4. Tips for improving time management and staying motivated.\n",
    "5. Any additional resources or tools that might be helpful for the student.\n",
    "\n",
    "Make sure the study plan addresses academic requirements and aligns with the student's unique needs and aspirations. Structure the plan to be all-inclusive and individualized.\n",
    "\n",
    "{dialogue}\n",
    "\n",
    "---\n",
    "\n",
    "Assistant:\n",
    "\"\"\"\n",
    "\n",
    "\n",
    "# Initialize LangChain with the prompt template\n",
    "prompt = PromptTemplate(template=prompt_template, input_variables=[\"dialogue\"])\n",
    "\n",
    "# Initialize the LLMChain with the prompt and the HuggingFacePipeline\n",
    "llm = HuggingFacePipeline(pipeline=transformers_pipeline)  \n",
    "chain = LLMChain(prompt=prompt, llm=llm)\n",
    "\n",
    "# Function to chat with AI\n",
    "def chat_with_ai():\n",
    "    while True:\n",
    "        user_input = input(\"You: \")\n",
    "        if user_input.lower() == \"exit\":\n",
    "            break\n",
    "\n",
    "        messages.append({\"role\": \"user\", \"content\": user_input})\n",
    "        dialogue = \"\\n\".join(\n",
    "            [f\"{msg['role'].capitalize()}: {msg['content']}\" for msg in messages]\n",
    "        )\n",
    "        ai_response = chain.run(dialogue)\n",
    "\n",
    "        print(\"AI:\", ai_response)\n",
    "        messages.append({\"role\": \"assistant\", \"content\": ai_response})\n",
    "\n",
    "\n",
    "# Call the chat function to start the conversation\n",
    "chat_with_ai()\n"
   ]
  }
 ],
 "metadata": {
  "kaggle": {
   "accelerator": "nvidiaTeslaT4",
   "dataSources": [],
   "dockerImageVersionId": 30699,
   "isGpuEnabled": true,
   "isInternetEnabled": true,
   "language": "python",
   "sourceType": "notebook"
  },
  "kernelspec": {
   "display_name": "Python 3",
   "language": "python",
   "name": "python3"
  },
  "language_info": {
   "codemirror_mode": {
    "name": "ipython",
    "version": 3
   },
   "file_extension": ".py",
   "mimetype": "text/x-python",
   "name": "python",
   "nbconvert_exporter": "python",
   "pygments_lexer": "ipython3",
   "version": "3.10.13"
  }
 },
 "nbformat": 4,
 "nbformat_minor": 4
}
